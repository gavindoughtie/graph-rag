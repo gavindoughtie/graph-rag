{
 "cells": [
  {
   "cell_type": "markdown",
   "metadata": {},
   "source": [
    "# Graph RAG\n",
    "\n",
    "Example of how to build and query a graph database for RAG.\n",
    "\n",
    "# Setup\n",
    "\n",
    "# install poetry if you don't have it yet\n",
    "`brew install poetry`\n",
    "\n",
    "# install docker\n",
    "If you're on a Mac, you'll want the docker desktop application, available here: https://www.docker.com/products/docker-desktop/\n",
    "\n",
    "# install langchain, etc. \n",
    "Make sure you're in the directory that holds `poetry.lock`\n",
    "\n",
    "`poetry install`\n",
    "\n",
    "`source $(poetry env info --path)/bin/activate`\n",
    "\n",
    "Copy `.env.example` to `.env` and update the variables as documented in that file.\n",
    "\n",
    "# run neo4j\n",
    "```\n",
    "docker run \\\n",
    "    -p 7474:7474 -p 7687:7687 \\\n",
    "    -v $PWD/data:/data -v $PWD/plugins:/plugins \\\n",
    "    --name neo4j-apoc \\\n",
    "    -e NEO4J_AUTH=$NEO4J_USERNAME/$NEO4J_PASSWORD \\\n",
    "    -e NEO4J_apoc_export_file_enabled=true \\\n",
    "    -e NEO4J_apoc_import_file_enabled=true \\\n",
    "    -e NEO4J_apoc_import_file_use__neo4j__config=true \\\n",
    "    -e NEO4JLABS_PLUGINS=\\[\\\"apoc\\\"\\] \\\n",
    "    -e NEO4J_dbms_security_procedures_unrestricted=apoc.\\\\\\* \\\n",
    "    neo4j:latest\n",
    "```\n",
    "(this command is in `run_neo4j_docker.sh`)"
   ]
  },
  {
   "cell_type": "code",
   "execution_count": 1,
   "metadata": {},
   "outputs": [
    {
     "data": {
      "text/plain": [
       "True"
      ]
     },
     "execution_count": 1,
     "metadata": {},
     "output_type": "execute_result"
    }
   ],
   "source": [
    "from langchain_core.runnables import (\n",
    "    RunnableBranch,\n",
    "    RunnableLambda,\n",
    "    RunnableParallel,\n",
    "    RunnablePassthrough,\n",
    ")\n",
    "from langchain_core.prompts import ChatPromptTemplate\n",
    "from langchain_core.prompts.prompt import PromptTemplate\n",
    "from langchain_core.pydantic_v1 import BaseModel, Field\n",
    "from typing import Tuple, List, Optional\n",
    "from langchain_core.messages import AIMessage, HumanMessage\n",
    "from langchain_core.output_parsers import StrOutputParser\n",
    "import os\n",
    "# from langchain_community.graphs import GraphDatabase\n",
    "from langchain.document_loaders import WikipediaLoader\n",
    "from langchain.text_splitter import TokenTextSplitter\n",
    "from langchain_openai import ChatOpenAI\n",
    "from langchain_experimental.graph_transformers import LLMGraphTransformer\n",
    "from neo4j import GraphDatabase\n",
    "from yfiles_jupyter_graphs import GraphWidget\n",
    "from langchain_community.vectorstores import Neo4jVector\n",
    "from langchain_openai import OpenAIEmbeddings\n",
    "from langchain_community.vectorstores.neo4j_vector import remove_lucene_chars\n",
    "from langchain_core.runnables import ConfigurableField, RunnableParallel, RunnablePassthrough\n",
    "\n",
    "try:\n",
    "  import google.colab\n",
    "  from google.colab import output\n",
    "  output.enable_custom_widget_manager()\n",
    "except:\n",
    "  pass\n",
    "from dotenv import load_dotenv\n",
    "\n",
    "load_dotenv()"
   ]
  },
  {
   "cell_type": "markdown",
   "metadata": {},
   "source": []
  },
  {
   "cell_type": "code",
   "execution_count": 2,
   "metadata": {},
   "outputs": [],
   "source": [
    "# validate neo4j\n",
    "load_dotenv()\n",
    "URI = os.getenv('NEO4J_URI')\n",
    "USERNAME = os.getenv('NEO4J_USERNAME')\n",
    "PASSWORD = os.getenv('NEO4J_PASSWORD')\n",
    "KEY = os.getenv('NEO4J_KEY')\n",
    "AUTH = (USERNAME, PASSWORD)\n",
    "\n",
    "with GraphDatabase.driver(URI, auth=AUTH) as driver:\n",
    "    driver.verify_connectivity()"
   ]
  },
  {
   "cell_type": "markdown",
   "metadata": {},
   "source": []
  },
  {
   "cell_type": "code",
   "execution_count": 3,
   "metadata": {},
   "outputs": [],
   "source": [
    "# Read the wikipedia article\n",
    "raw_documents = WikipediaLoader(query=\"Star Trek: The Next Generation\").load()\n",
    "# Define chunking strategy\n",
    "text_splitter = TokenTextSplitter(chunk_size=512, chunk_overlap=24)\n",
    "documents = text_splitter.split_documents(raw_documents[:3])"
   ]
  },
  {
   "cell_type": "code",
   "execution_count": 4,
   "metadata": {},
   "outputs": [],
   "source": [
    "llm=ChatOpenAI(temperature=0, model_name=\"gpt-4o\")\n",
    "llm_transformer = LLMGraphTransformer(llm=llm)\n",
    "\n",
    "graph_documents = llm_transformer.convert_to_graph_documents(documents)"
   ]
  },
  {
   "cell_type": "code",
   "execution_count": 5,
   "metadata": {},
   "outputs": [
    {
     "data": {
      "text/plain": [
       "GraphDocument(nodes=[Node(id='Star Trek: The Next Generation', type='Television series'), Node(id='Gene Roddenberry', type='Person'), Node(id='Star Trek: The Original Series', type='Television series'), Node(id='Uss Enterprise (Ncc-1701-D)', type='Starship'), Node(id='Patrick Stewart', type='Person'), Node(id='Jean-Luc Picard', type='Character'), Node(id='Jonathan Frakes', type='Person'), Node(id='William Riker', type='Character'), Node(id='Brent Spiner', type='Person'), Node(id='Data', type='Character'), Node(id='Michael Dorn', type='Person'), Node(id='Worf', type='Character'), Node(id='Levar Burton', type='Person'), Node(id='Geordi La Forge', type='Character'), Node(id='Marina Sirtis', type='Person'), Node(id='Deanna Troi', type='Character'), Node(id='Gates Mcfadden', type='Person'), Node(id='Beverly Crusher', type='Character'), Node(id='Denise Crosby', type='Person'), Node(id='Tasha Yar', type='Character'), Node(id='Wil Wheaton', type='Person'), Node(id='Wesley Crusher', type='Character'), Node(id='Maurice Hurley', type='Person'), Node(id='Rick Berman', type='Person'), Node(id='Michael Piller', type='Person'), Node(id='Jeri Taylor', type='Person'), Node(id='Star Trek: Deep Space Nine', type='Television series'), Node(id='Star Trek Generations', type='Film'), Node(id='Star Trek: First Contact', type='Film'), Node(id='Star Trek: Insurrection', type='Film'), Node(id='Star Trek: Nemesis', type='Film'), Node(id='United Federation Of Planets', type='Organization'), Node(id='Paramount Pictures', type='Organization')], relationships=[Relationship(source=Node(id='Star Trek: The Next Generation', type='Television series'), target=Node(id='Gene Roddenberry', type='Person'), type='CREATED_BY'), Relationship(source=Node(id='Star Trek: The Next Generation', type='Television series'), target=Node(id='Star Trek: The Original Series', type='Television series'), type='INSPIRED_BY'), Relationship(source=Node(id='Uss Enterprise (Ncc-1701-D)', type='Starship'), target=Node(id='Star Trek: The Next Generation', type='Television series'), type='FEATURED_IN'), Relationship(source=Node(id='Jean-Luc Picard', type='Character'), target=Node(id='Patrick Stewart', type='Person'), type='PORTRAYED_BY'), Relationship(source=Node(id='William Riker', type='Character'), target=Node(id='Jonathan Frakes', type='Person'), type='PORTRAYED_BY'), Relationship(source=Node(id='Data', type='Character'), target=Node(id='Brent Spiner', type='Person'), type='PORTRAYED_BY'), Relationship(source=Node(id='Worf', type='Character'), target=Node(id='Michael Dorn', type='Person'), type='PORTRAYED_BY'), Relationship(source=Node(id='Geordi La Forge', type='Character'), target=Node(id='Levar Burton', type='Person'), type='PORTRAYED_BY'), Relationship(source=Node(id='Deanna Troi', type='Character'), target=Node(id='Marina Sirtis', type='Person'), type='PORTRAYED_BY'), Relationship(source=Node(id='Beverly Crusher', type='Character'), target=Node(id='Gates Mcfadden', type='Person'), type='PORTRAYED_BY'), Relationship(source=Node(id='Tasha Yar', type='Character'), target=Node(id='Denise Crosby', type='Person'), type='PORTRAYED_BY'), Relationship(source=Node(id='Wesley Crusher', type='Character'), target=Node(id='Wil Wheaton', type='Person'), type='PORTRAYED_BY'), Relationship(source=Node(id='Star Trek: The Next Generation', type='Television series'), target=Node(id='Maurice Hurley', type='Person'), type='EXECUTIVE_PRODUCER'), Relationship(source=Node(id='Star Trek: The Next Generation', type='Television series'), target=Node(id='Rick Berman', type='Person'), type='EXECUTIVE_PRODUCER'), Relationship(source=Node(id='Star Trek: The Next Generation', type='Television series'), target=Node(id='Michael Piller', type='Person'), type='EXECUTIVE_PRODUCER'), Relationship(source=Node(id='Star Trek: The Next Generation', type='Television series'), target=Node(id='Jeri Taylor', type='Person'), type='EXECUTIVE_PRODUCER'), Relationship(source=Node(id='Star Trek: The Next Generation', type='Television series'), target=Node(id='Star Trek: Deep Space Nine', type='Television series'), type='PRECEDED'), Relationship(source=Node(id='Star Trek: The Next Generation', type='Television series'), target=Node(id='Star Trek Generations', type='Film'), type='FEATURED_IN'), Relationship(source=Node(id='Star Trek: The Next Generation', type='Television series'), target=Node(id='Star Trek: First Contact', type='Film'), type='FEATURED_IN'), Relationship(source=Node(id='Star Trek: The Next Generation', type='Television series'), target=Node(id='Star Trek: Insurrection', type='Film'), type='FEATURED_IN'), Relationship(source=Node(id='Star Trek: The Next Generation', type='Television series'), target=Node(id='Star Trek: Nemesis', type='Film'), type='FEATURED_IN'), Relationship(source=Node(id='Star Trek: The Next Generation', type='Television series'), target=Node(id='United Federation Of Planets', type='Organization'), type='SET_IN'), Relationship(source=Node(id='Gene Roddenberry', type='Person'), target=Node(id='Paramount Pictures', type='Organization'), type='TASKED_BY')], source=Document(page_content=\"Star Trek: The Next Generation (TNG) is an American science fiction television series created by Gene Roddenberry. It originally aired from September 28, 1987, to May 23, 1994, in syndication, spanning 178 episodes over seven seasons. The third series in the Star Trek franchise, it was inspired by Star Trek: The Original Series. Set in the latter third of the 24th century, when Earth is part of the United Federation of Planets, it follows the adventures of a Starfleet starship, the USS Enterprise (NCC-1701-D), in its exploration of the Alpha quadrant and Beta quadrant in the Milky Way galaxy.\\nIn the 1980s, Roddenberry—who was responsible for the original Star Trek, Star Trek: The Animated Series (1973–1974), and the first of a series of films—was tasked by Paramount Pictures with creating a new series in the franchise. He decided to set it a century after the events of his original series. The Next Generation featured a new crew: Patrick Stewart as Captain Jean-Luc Picard, Jonathan Frakes as William Riker, Brent Spiner as Data, Michael Dorn as Worf, LeVar Burton as Geordi La Forge, Marina Sirtis as Deanna Troi, Gates McFadden as Dr. Beverly Crusher, Denise Crosby as Tasha Yar, Wil Wheaton as Wesley Crusher, and a new Enterprise.\\nRoddenberry, Maurice Hurley, Rick Berman, Michael Piller, and Jeri Taylor served as executive producers at various times throughout its production. The series was broadcast in first-run syndication with dates and times varying among individual television stations. Stewart's voice-over introduction during each episode's opening credits stated the starship's purpose:\\n\\nSpace: The final frontier. These are the voyages of the starship Enterprise. Its continuing mission: to explore strange new worlds, to seek out new life and new civilizations, to boldly go where no one has gone before.\\nThe show reached almost 12 million viewers in its 5th season, with the series finale in 1994 watched by over 30 million viewers. Due to its success, Paramount commissioned Rick Berman and Michael Piller to create a fourth series in the franchise, Star Trek: Deep Space Nine, which launched in 1993. The characters from The Next Generation returned in four films: Star Trek Generations (1994), Star Trek: First Contact (1996), Star Trek: Insurrection (1998), and Star Trek: Nemesis (2002), and in the television series\", metadata={'title': 'Star Trek: The Next Generation', 'summary': \"Star Trek: The Next Generation (TNG) is an American science fiction television series created by Gene Roddenberry. It originally aired from September 28, 1987, to May 23, 1994, in syndication, spanning 178 episodes over seven seasons. The third series in the Star Trek franchise, it was inspired by Star Trek: The Original Series. Set in the latter third of the 24th century, when Earth is part of the United Federation of Planets, it follows the adventures of a Starfleet starship, the USS Enterprise (NCC-1701-D), in its exploration of the Alpha quadrant and Beta quadrant in the Milky Way galaxy.\\nIn the 1980s, Roddenberry—who was responsible for the original Star Trek, Star Trek: The Animated Series (1973–1974), and the first of a series of films—was tasked by Paramount Pictures with creating a new series in the franchise. He decided to set it a century after the events of his original series. The Next Generation featured a new crew: Patrick Stewart as Captain Jean-Luc Picard, Jonathan Frakes as William Riker, Brent Spiner as Data, Michael Dorn as Worf, LeVar Burton as Geordi La Forge, Marina Sirtis as Deanna Troi, Gates McFadden as Dr. Beverly Crusher, Denise Crosby as Tasha Yar, Wil Wheaton as Wesley Crusher, and a new Enterprise.\\nRoddenberry, Maurice Hurley, Rick Berman, Michael Piller, and Jeri Taylor served as executive producers at various times throughout its production. The series was broadcast in first-run syndication with dates and times varying among individual television stations. Stewart's voice-over introduction during each episode's opening credits stated the starship's purpose:\\n\\nSpace: The final frontier. These are the voyages of the starship Enterprise. Its continuing mission: to explore strange new worlds, to seek out new life and new civilizations, to boldly go where no one has gone before.\\nThe show reached almost 12 million viewers in its 5th season, with the series finale in 1994 watched by over 30 million viewers. Due to its success, Paramount commissioned Rick Berman and Michael Piller to create a fourth series in the franchise, Star Trek: Deep Space Nine, which launched in 1993. The characters from The Next Generation returned in four films: Star Trek Generations (1994), Star Trek: First Contact (1996), Star Trek: Insurrection (1998), and Star Trek: Nemesis (2002), and in the television series Star Trek: Picard (2020–2023). The series is also the setting of numerous novels, comic books, and video games. It received many accolades, including 19 Emmy Awards, two Hugo Awards, one Peabody Award, and six Saturn Awards, including a Lifetime Achievement Award for the entire cast in 2024.\\nIn 2013, the Writers Guild of America ranked Star Trek: The Next Generation #79 – along with Upstairs, Downstairs, Monty Python's Flying Circus and Alfred Hitchcock Presents – on their list of the 101 Best Written TV Series.\\n\\n\", 'source': 'https://en.wikipedia.org/wiki/Star_Trek:_The_Next_Generation'}))"
      ]
     },
     "execution_count": 5,
     "metadata": {},
     "output_type": "execute_result"
    }
   ],
   "source": [
    "graph_documents[0]"
   ]
  },
  {
   "cell_type": "code",
   "execution_count": 6,
   "metadata": {},
   "outputs": [],
   "source": [
    "from langchain_community.graphs.neo4j_graph import Neo4jGraph\n",
    "\n",
    "graph = Neo4jGraph(URI, USERNAME, PASSWORD)\n",
    "\n",
    "graph.add_graph_documents(\n",
    "    graph_documents,\n",
    "    baseEntityLabel=True,\n",
    "    include_source=True\n",
    ")"
   ]
  },
  {
   "cell_type": "markdown",
   "metadata": {},
   "source": [
    "# Unstructured data retriever\n",
    "You can use the Neo4jVector.from_existing_graph method to add both keyword and vector retrieval to documents. This method configures keyword and vector search indexes for a hybrid search approach, targeting nodes labeled Document. Additionally, it calculates text embedding values if they are missing."
   ]
  },
  {
   "cell_type": "code",
   "execution_count": 7,
   "metadata": {},
   "outputs": [],
   "source": [
    "vector_index = Neo4jVector.from_existing_graph(\n",
    "    OpenAIEmbeddings(),\n",
    "    search_type=\"hybrid\",\n",
    "    node_label=\"Document\",\n",
    "    text_node_properties=[\"text\"],\n",
    "    embedding_node_property=\"embedding\"\n",
    ")"
   ]
  },
  {
   "cell_type": "markdown",
   "metadata": {},
   "source": [
    "# Graph retriever\n",
    "On the other hand, configuring a graph retrieval is more involved but offers more freedom. In this example, we will use a full-text index to identify relevant nodes and then return their direct neighborhood.\n",
    "\n",
    "![Graph retriever. Image from LangChain.](./1_z0pYA_dSNG_yTYE6Rr7CQA.png)\n",
    "\n",
    "The graph retriever starts by identifying relevant entities in the input. For simplicity, we instruct the LLM to identify people, organizations, and locations. To achieve this, we will use LCEL with the newly added `with_structured_output` method to achieve this."
   ]
  },
  {
   "cell_type": "code",
   "execution_count": 13,
   "metadata": {},
   "outputs": [],
   "source": [
    "# Extract entities from text\n",
    "class Entities(BaseModel):\n",
    "    \"\"\"Identifying information about entities.\"\"\"\n",
    "\n",
    "    names: List[str] = Field(\n",
    "        ...,\n",
    "        description=\"All the person, character, organization, or starships \\\n",
    "        that \" \"appear in the text\",\n",
    "    )\n",
    "\n",
    "prompt = ChatPromptTemplate.from_messages(\n",
    "    [\n",
    "        (\n",
    "            \"system\",\n",
    "            \"You are extracting character and person entities from the \\\n",
    "            text.\",\n",
    "        ),\n",
    "        (\n",
    "            \"human\",\n",
    "            \"Use the given format to extract information from the \\\n",
    "             following\"\n",
    "            \"input: {question}\",\n",
    "        ),\n",
    "    ]\n",
    ")\n",
    "\n",
    "entity_chain = prompt | llm.with_structured_output(Entities)"
   ]
  },
  {
   "cell_type": "code",
   "execution_count": 17,
   "metadata": {},
   "outputs": [
    {
     "data": {
      "text/plain": [
       "['Captain Jean-Luc Picard']"
      ]
     },
     "execution_count": 17,
     "metadata": {},
     "output_type": "execute_result"
    }
   ],
   "source": [
    "# gets an entity\n",
    "entity_chain.invoke({\"question\": \"Who is Captain Jean-Luc Picard?\"}).names"
   ]
  },
  {
   "cell_type": "markdown",
   "metadata": {},
   "source": [
    "now that we can detect entities in the question, let’s use a full-text index to map them to the knowledge graph. First, we need to define a full-text index and a function that will generate full-text queries that allow a bit of misspelling, which we won’t go into much detail here."
   ]
  },
  {
   "cell_type": "code",
   "execution_count": 18,
   "metadata": {},
   "outputs": [],
   "source": [
    "graph.query(\n",
    "    \"CREATE FULLTEXT INDEX entity IF NOT EXISTS FOR (e:__Entity__) ON EACH [e.id]\")\n",
    "\n",
    "def generate_full_text_query(input: str) -> str:\n",
    "    \"\"\"\n",
    "    Generate a full-text search query for a given input string.\n",
    "\n",
    "    This function constructs a query string suitable for a full-text\n",
    "    search. It processes the input string by splitting it into words and \n",
    "    appending a similarity threshold (~2 changed characters) to each\n",
    "    word, then combines them using the AND operator. Useful for mapping\n",
    "    entities from user questions to database values, and allows for some \n",
    "    misspelings.\n",
    "    \"\"\"\n",
    "    full_text_query = \"\"\n",
    "    words = [el for el in remove_lucene_chars(input).split() if el]\n",
    "    for word in words[:-1]:\n",
    "        full_text_query += f\" {word}~2 AND\"\n",
    "    full_text_query += f\" {words[-1]}~2\"\n",
    "    return full_text_query.strip()"
   ]
  },
  {
   "cell_type": "code",
   "execution_count": 19,
   "metadata": {},
   "outputs": [],
   "source": [
    "# Fulltext index query\n",
    "def structured_retriever(question: str) -> str:\n",
    "    \"\"\"\n",
    "    Collects the neighborhood of entities mentioned\n",
    "    in the question\n",
    "    \"\"\"\n",
    "    result = \"\"\n",
    "    entities = entity_chain.invoke({\"question\": question})\n",
    "    for entity in entities.names:\n",
    "        response = graph.query(\n",
    "            \"\"\"CALL db.index.fulltext.queryNodes('entity', $query, \n",
    "            {limit:2})\n",
    "            YIELD node,score\n",
    "            CALL {\n",
    "              MATCH (node)-[r:!MENTIONS]->(neighbor)\n",
    "              RETURN node.id + ' - ' + type(r) + ' -> ' + neighbor.id AS \n",
    "              output\n",
    "              UNION\n",
    "              MATCH (node)<-[r:!MENTIONS]-(neighbor)\n",
    "              RETURN neighbor.id + ' - ' + type(r) + ' -> ' +  node.id AS \n",
    "              output\n",
    "            }\n",
    "            RETURN output LIMIT 50\n",
    "            \"\"\",\n",
    "            {\"query\": generate_full_text_query(entity)},\n",
    "        )\n",
    "        result += \"\\n\".join([el['output'] for el in response])\n",
    "    return result"
   ]
  },
  {
   "cell_type": "markdown",
   "metadata": {},
   "source": [
    "The `structured_retriever` function starts by detecting entities in the user question. Next, it iterates over the detected entities and uses a Cypher template to retrieve the neighborhood of relevant nodes. Let’s test it out!"
   ]
  },
  {
   "cell_type": "code",
   "execution_count": 30,
   "metadata": {},
   "outputs": [
    {
     "name": "stdout",
     "output_type": "stream",
     "text": [
      "Star Trek: The Next Generation - CREATED_BY -> Gene Roddenberry\n",
      "Star Trek: The Next Generation - INSPIRED_BY -> Star Trek: The Original Series\n",
      "Uss Enterprise (Ncc-1701-D) - FEATURED_IN -> Star Trek: The Next Generation\n",
      "Jean-Luc Picard - PORTRAYED_BY -> Patrick Stewart\n",
      "William Riker - PORTRAYED_BY -> Jonathan Frakes\n",
      "Data - PORTRAYED_BY -> Brent Spiner\n",
      "Worf - PORTRAYED_BY -> Michael Dorn\n",
      "Geordi La Forge - PORTRAYED_BY -> Levar Burton\n",
      "Deanna Troi - PORTRAYED_BY -> Marina Sirtis\n",
      "Beverly Crusher - PORTRAYED_BY -> Gates Mcfadden\n"
     ]
    }
   ],
   "source": [
    "answers = structured_retriever(\"Who is Picard?\")\n",
    "print('\\n'.join(answers.split('\\n')[:10]))"
   ]
  },
  {
   "cell_type": "code",
   "execution_count": 31,
   "metadata": {},
   "outputs": [],
   "source": [
    "#Combine the unstructured and graph retriever to create the final context that will be passed to an LLM.\n",
    "\n",
    "def retriever(question: str):\n",
    "    print(f\"Search query: {question}\")\n",
    "    structured_data = structured_retriever(question)\n",
    "    unstructured_data = [el.page_content for el in vector_index.similarity_search(question)]\n",
    "    final_data = f\"\"\"Structured data:\n",
    "{structured_data}\n",
    "Unstructured data:\n",
    "{\"#Document \". join(unstructured_data)}\n",
    "    \"\"\"\n",
    "    return final_data"
   ]
  },
  {
   "cell_type": "markdown",
   "metadata": {},
   "source": [
    "This allows for follow-up questions:"
   ]
  },
  {
   "cell_type": "code",
   "execution_count": 42,
   "metadata": {},
   "outputs": [],
   "source": [
    "# Condense a chat history and follow-up question into a standalone question\n",
    "_template = \"\"\"Given the following conversation and a follow up question, rephrase the follow up question to be a standalone question,\n",
    "in its original language.\n",
    "Chat History:\n",
    "{chat_history}\n",
    "Follow Up Input: {question}\n",
    "Standalone question:\"\"\"  # noqa: E501\n",
    "CONDENSE_QUESTION_PROMPT = PromptTemplate.from_template(_template)\n",
    "\n",
    "def _format_chat_history(chat_history: List[Tuple[str, str]]) -> List:\n",
    "    buffer = []\n",
    "    for human, ai in chat_history:\n",
    "        buffer.append(HumanMessage(content=human))\n",
    "        buffer.append(AIMessage(content=ai))\n",
    "    return buffer\n",
    "\n",
    "_search_query = RunnableBranch(\n",
    "    # If input includes chat_history, we condense it with the follow-up question\n",
    "    (\n",
    "        RunnableLambda(lambda x: bool(x.get(\"chat_history\"))).with_config(\n",
    "            run_name=\"HasChatHistoryCheck\"\n",
    "        ),  # Condense follow-up question and chat into a standalone_question\n",
    "        RunnablePassthrough.assign(\n",
    "            chat_history=lambda x: _format_chat_history(x[\"chat_history\"])\n",
    "        )\n",
    "        | CONDENSE_QUESTION_PROMPT\n",
    "        | ChatOpenAI(temperature=0)\n",
    "        | StrOutputParser(),\n",
    "    ),\n",
    "    # Else, we have no chat history, so just pass through the question\n",
    "    RunnableLambda(lambda x : x[\"question\"]),\n",
    ")"
   ]
  },
  {
   "cell_type": "markdown",
   "metadata": {},
   "source": [
    "# Defining the RAG chain\n",
    "We have successfully implemented the retrieval component of the RAG. Next, we introduce a prompt that leverages the context provided by the integrated hybrid retriever to produce the response, completing the implementation of the RAG chain."
   ]
  },
  {
   "cell_type": "code",
   "execution_count": 44,
   "metadata": {},
   "outputs": [],
   "source": [
    "template = \"\"\"Answer the question based only on the following context:\n",
    "{context}\n",
    "\n",
    "Question: {question}\n",
    "\"\"\"\n",
    "prompt = ChatPromptTemplate.from_template(template)\n",
    "\n",
    "chain = (\n",
    "    RunnableParallel(\n",
    "        {\n",
    "            \"context\": _search_query | retriever,\n",
    "            \"question\": RunnablePassthrough(),\n",
    "        }\n",
    "    )\n",
    "    | prompt\n",
    "    | llm\n",
    "    | StrOutputParser()\n",
    ")\n",
    "\n"
   ]
  },
  {
   "cell_type": "code",
   "execution_count": 50,
   "metadata": {},
   "outputs": [
    {
     "name": "stdout",
     "output_type": "stream",
     "text": [
      "Search query: Who was Picard's security officer?\n"
     ]
    },
    {
     "data": {
      "text/plain": [
       "\"Picard's security officer was Worf, portrayed by Michael Dorn.\""
      ]
     },
     "execution_count": 50,
     "metadata": {},
     "output_type": "execute_result"
    }
   ],
   "source": [
    "chain.invoke({\"question\": \"Who was Picard's security officer?\"})"
   ]
  },
  {
   "cell_type": "code",
   "execution_count": 51,
   "metadata": {},
   "outputs": [
    {
     "name": "stdout",
     "output_type": "stream",
     "text": [
      "Search query: What race is Worf?\n"
     ]
    },
    {
     "data": {
      "text/plain": [
       "\"Worf, Picard's security officer, is a Klingon.\""
      ]
     },
     "execution_count": 51,
     "metadata": {},
     "output_type": "execute_result"
    }
   ],
   "source": [
    "# follow-up questions:\n",
    "chain.invoke(\n",
    "    {\n",
    "        \"question\": \"What race is he?\",\n",
    "        \"chat_history\": [(\"Who was Picard's security officer?\", \"Picard's security officer was Worf, portrayed by Michael Dorn.\")],\n",
    "    }\n",
    ")"
   ]
  },
  {
   "cell_type": "code",
   "execution_count": null,
   "metadata": {},
   "outputs": [],
   "source": []
  }
 ],
 "metadata": {
  "kernelspec": {
   "display_name": "Python 3",
   "language": "python",
   "name": "python3"
  },
  "language_info": {
   "codemirror_mode": {
    "name": "ipython",
    "version": 3
   },
   "file_extension": ".py",
   "mimetype": "text/x-python",
   "name": "python",
   "nbconvert_exporter": "python",
   "pygments_lexer": "ipython3",
   "version": "3.12.3"
  }
 },
 "nbformat": 4,
 "nbformat_minor": 2
}
